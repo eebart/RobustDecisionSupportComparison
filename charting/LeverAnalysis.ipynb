{
 "cells": [
  {
   "cell_type": "code",
   "execution_count": null,
   "metadata": {},
   "outputs": [],
   "source": [
    "import sys\n",
    "sys.path.append('../run_analyses/')\n",
    "\n",
    "import matplotlib as mpl\n",
    "import matplotlib.pyplot as plt\n",
    "import seaborn as sns\n",
    "import numpy as np\n",
    "import pandas as pd\n",
    "\n",
    "from scipy.optimize import root\n",
    "\n",
    "from support.charting import primaryColors, fullColors, save_fig\n",
    "from support.load     import loadAllData, methodParams\n",
    "from support.util     import titles, order, methodTitle, modelTitle\n",
    "\n",
    "from modelConfig      import models\n",
    "from util.util        import getLeverNames\n",
    "\n",
    "from ema_workbench.analysis import parcoords\n",
    "\n",
    "from IPython.core import display as ICD"
   ]
  },
  {
   "cell_type": "code",
   "execution_count": null,
   "metadata": {},
   "outputs": [],
   "source": [
    "data = loadAllData()\n",
    "sns.set_style('white')"
   ]
  },
  {
   "cell_type": "markdown",
   "metadata": {},
   "source": [
    "# Separate Pareto Results\n",
    "\n",
    "### DPS, t=1"
   ]
  },
  {
   "cell_type": "code",
   "execution_count": null,
   "metadata": {},
   "outputs": [],
   "source": [
    "def show_paracord(method='', model='', nondominated=[], outputs=['max_P','utility','inertia','reliability'], outTitles=[]):\n",
    "    maxp = 0\n",
    "    utility = 0\n",
    "    outdatas = []\n",
    "    for idx, nond in enumerate(nondominated):\n",
    "        if nond['max_P'].max() > maxp: \n",
    "            maxp = nond['max_P'].max()\n",
    "        if nond['utility'].max() > utility: \n",
    "            utility = nond['utility'].max()\n",
    "        \n",
    "        outdata = nond[outputs]\n",
    "        outdata.columns = outTitles\n",
    "        outdatas.append(outdata)\n",
    "    \n",
    "    limits = parcoords.get_limits(outdatas[0])\n",
    "    limits.loc[:, [outTitles[outputs.index('inertia')], outTitles[outputs.index('reliability')]]] = [[0,0], [1,1]]\n",
    "    limits.loc[:, [outTitles[outputs.index('max_P')], outTitles[outputs.index('utility')]]] = [[0,0],[9.53, 1.77]]\n",
    "    \n",
    "    colors = fullColors[model][method] if len(nondominated) > 1 else [primaryColors[model][method]]\n",
    "    axes = parcoords.ParallelAxes(limits, rot=0, fontsize=12)\n",
    "    for idx, nond in enumerate(outdatas):\n",
    "        axes.plot(nond, color=colors[idx], linewidth=0.5)\n",
    "\n",
    "    axes.invert_axis(outTitles[outputs.index('max_P')])\n",
    "    \n",
    "    plt.suptitle(methodTitle[method], fontsize=14,weight='bold',y=1.03)\n",
    "    axes.fig.set_size_inches([5,2.5])\n",
    "    save_fig(plt, 'images/outcomes/', 'parallelnondominated' + method + '_' + model)\n",
    "    plt.show()\n",
    "\n",
    "from methodFuncs.moro import robustnessFunctions\n",
    "def show_paracord_moro(method='', model='', nondominated=[], outputs=['max_P','utility','inertia','reliability'], outTitles=[]):\n",
    "    outdatas = []\n",
    "    for idx, nond in enumerate(nondominated):\n",
    "        outdata = nond[outputs]\n",
    "        outdata.columns = outTitles\n",
    "        outdatas.append(outdata)\n",
    "        \n",
    "    limits = parcoords.get_limits(outdatas[0])\n",
    "    limits.iloc[0] = 0\n",
    "    limits.iloc[1] = 1\n",
    "\n",
    "    colors = fullColors[model][method] if len(nondominated) > 1 else [primaryColors[model][method]]\n",
    "    axes = parcoords.ParallelAxes(limits, rot=0, fontsize=12)\n",
    "    for idx, nond in enumerate(nondominated):\n",
    "        outdata = nond[outputs]\n",
    "        outdata.columns = outTitles\n",
    "        axes.plot(outdata, color=colors[idx], linewidth=0.5)\n",
    "        \n",
    "    plt.suptitle(methodTitle[method], fontsize=14,weight='bold',y=1.03)\n",
    "    axes.fig.set_size_inches([5,2.5])\n",
    "    save_fig(plt, 'images/outcomes/', 'parallelnondominated' + method + '_' + model)\n",
    "    plt.show()\n",
    "    return axes"
   ]
  },
  {
   "cell_type": "code",
   "execution_count": null,
   "metadata": {},
   "outputs": [],
   "source": [
    "key = 'dps'\n",
    "show_paracord(model=key, method='mordm', nondominated=data['mordm']['nondominated'][key], outTitles=titles('outcome'))\n",
    "show_paracord(model=key, method='multi', nondominated=data['multi']['nondominated'][key], outTitles=titles('outcome'))\n",
    "show_paracord_moro(model=key, method='moro', nondominated=data['moro']['nondominated'][key], \n",
    "                   outputs=[func.name for func in robustnessFunctions], outTitles=['Fraction\\n' + name for name in titles('outcome')])"
   ]
  },
  {
   "cell_type": "markdown",
   "metadata": {},
   "source": [
    "### Planned Adaptive DPS, t=10"
   ]
  },
  {
   "cell_type": "code",
   "execution_count": null,
   "metadata": {},
   "outputs": [],
   "source": [
    "key = 'plannedadaptive'\n",
    "show_paracord(model=key, method='mordm', nondominated=data['mordm']['nondominated'][key], outTitles=titles('outcome'))\n",
    "show_paracord(model=key, method='multi', nondominated=data['multi']['nondominated'][key], outTitles=titles('outcome'))\n",
    "show_paracord_moro(model=key, method='moro', nondominated=data['moro']['nondominated'][key], \n",
    "                   outputs=[func.name for func in robustnessFunctions], outTitles=['Fraction\\n' + name for name in titles('outcome')])"
   ]
  },
  {
   "cell_type": "markdown",
   "metadata": {},
   "source": [
    "### Intertemporal"
   ]
  },
  {
   "cell_type": "code",
   "execution_count": null,
   "metadata": {},
   "outputs": [],
   "source": [
    "key = 'intertemporal'\n",
    "show_paracord(model=key, method='mordm', nondominated=data['mordm']['nondominated'][key], outTitles=titles('outcome'))\n",
    "show_paracord(model=key, method='multi', nondominated=data['multi']['nondominated'][key], outTitles=titles('outcome'))\n",
    "show_paracord_moro(model=key, method='moro', nondominated=data['moro']['nondominated'][key], \n",
    "                   outputs=[func.name for func in robustnessFunctions], outTitles=['Fraction\\n' + name for name in titles('outcome')])"
   ]
  },
  {
   "cell_type": "markdown",
   "metadata": {},
   "source": [
    "# Lever Ranges\n",
    "\n",
    "### DPS, t=1"
   ]
  },
  {
   "cell_type": "code",
   "execution_count": null,
   "metadata": {},
   "outputs": [],
   "source": [
    "def showLeverRanges(model, nondominated):\n",
    "    levers = getLeverNames(models[model])\n",
    "    leverVals = []\n",
    "    for method in order('method'):\n",
    "        nond = nondominated[method]\n",
    "        if not isinstance(nond, list):\n",
    "            nond=[nond]\n",
    "        for lever in levers: \n",
    "            leverVal = pd.concat(nond)[lever]\n",
    "            df = pd.DataFrame(leverVal)\n",
    "            df.columns = ['value']\n",
    "            df['method'] = method\n",
    "            df['lever'] = lever\n",
    "            leverVals.append(df)\n",
    "\n",
    "    df = pd.concat(leverVals)\n",
    "    pal = {'mordm': primaryColors[model]['mordm'],'multi': primaryColors[model]['multi'],'moro': primaryColors[model]['moro']}\n",
    "    for tp in ['box','violin']: \n",
    "        g = sns.factorplot(x=\"method\", y=\"value\", col=\"lever\", palette=pal,\n",
    "                           data=df, kind=tp,\n",
    "                           size=4, aspect=.7)\n",
    "        g.set_axis_labels('', \"Value\").set_titles(\"{col_name}\").set_xticklabels(['MORDM','Multi-Scenario\\nMORDM','MORO'])\n",
    "\n",
    "        plt.suptitle('Decision Lever Ranges for ' + modelTitle[model].replace('\\n',' '), fontsize=14,weight='bold',y=1.1)\n",
    "        \n",
    "        save_fig(g, 'images/levers/', 'leverranges_' + tp + '_' + model)\n",
    "        \n",
    "        plt.show()\n",
    "\n",
    "    return g"
   ]
  },
  {
   "cell_type": "code",
   "execution_count": null,
   "metadata": {},
   "outputs": [],
   "source": [
    "key = 'dps'\n",
    "showLeverRanges(model=key, nondominated={'mordm': data['mordm']['nondominated'][key],\n",
    "                                         'multi': data['multi']['nondominated'][key], \n",
    "                                         'moro': data['moro']['nondominated'][key]})"
   ]
  },
  {
   "cell_type": "markdown",
   "metadata": {},
   "source": [
    "### Planned Adaptive DPS, t=10"
   ]
  },
  {
   "cell_type": "code",
   "execution_count": null,
   "metadata": {},
   "outputs": [],
   "source": [
    "key = 'plannedadaptive'\n",
    "showLeverRanges(model=key, nondominated={'mordm': data['mordm']['nondominated'][key],\n",
    "                                         'multi': data['multi']['nondominated'][key], \n",
    "                                         'moro': data['moro']['nondominated'][key]})"
   ]
  },
  {
   "cell_type": "markdown",
   "metadata": {},
   "source": [
    "# Comparing Lever Values"
   ]
  },
  {
   "cell_type": "code",
   "execution_count": null,
   "metadata": {},
   "outputs": [],
   "source": [
    "linewidth=0.5\n",
    "def compareParetoLevers(model='', mordm=None, multi=None, moro=None):\n",
    "    leverNames = getLeverNames(models[model])\n",
    "    levers_mordm = mordm.loc[:, leverNames]\n",
    "    levers_multi = multi.loc[:, leverNames]\n",
    "    levers_moro = moro.loc[:, leverNames]\n",
    "    \n",
    "    limits = parcoords.get_limits(levers_mordm)\n",
    "    limits.iloc[0, :] = 0\n",
    "    limits.iloc[1, :] = 2\n",
    "    limits.iloc[0, 0:2] = -2\n",
    "    limits.iloc[1,4] = 1\n",
    "\n",
    "    axes = parcoords.ParallelAxes(limits, rot=0, fontsize=14)\n",
    "    axes.plot(levers_multi, color=primaryColors[model]['multi'], label=methodTitle['multi'], linewidth=linewidth)\n",
    "    axes.plot(levers_mordm, color=primaryColors[model]['mordm'], label=methodTitle['mordm'], linewidth=linewidth)\n",
    "    axes.plot(levers_moro, color=primaryColors[model]['moro'], label=methodTitle['moro'], linewidth=linewidth)\n",
    "    axes.legend()\n",
    "    axes.fig.suptitle(modelTitle[model].replace('\\n','') + ' Comparison', fontsize=16, y = 1.05)\n",
    "\n",
    "    plt.show()"
   ]
  },
  {
   "cell_type": "code",
   "execution_count": null,
   "metadata": {},
   "outputs": [],
   "source": [
    "# All DPS\n",
    "key = 'dps'\n",
    "compareParetoLevers(model=key, mordm=data['mordm']['nondominated'][key][0],\n",
    "                          multi=pd.concat(data['multi']['nondominated'][key]),\n",
    "                          moro=data['moro']['nondominated'][key][0])"
   ]
  },
  {
   "cell_type": "code",
   "execution_count": null,
   "metadata": {},
   "outputs": [],
   "source": [
    "# All Adaptive Direct\n",
    "key = 'plannedadaptive'\n",
    "compareParetoLevers(model=key, mordm=data['mordm']['nondominated'][key][0],\n",
    "                          multi=pd.concat(data['multi']['nondominated'][key]),\n",
    "                          moro=data['moro']['nondominated'][key][0])"
   ]
  },
  {
   "cell_type": "markdown",
   "metadata": {},
   "source": [
    "# Mapping Trend of Release Rules"
   ]
  },
  {
   "cell_type": "code",
   "execution_count": null,
   "metadata": {},
   "outputs": [],
   "source": [
    "def get_antropogenic_release(xt, c1, c2, r1, r2, w1):\n",
    "    rule = w1*(abs(xt-c1)/r1)**3+(1-w1)*(abs(xt-c2)/r2)**3\n",
    "    at1 = max(rule, 0.01)\n",
    "    at = min(at1, 0.1)\n",
    "    return at\n",
    "\n",
    "def mapReleaseTrends(model='', releases={}):\n",
    "    fig, axarr = plt.subplots(nrows=3, sharex=True, sharey=True, figsize=(7.5, 2))\n",
    "    plotTitles = titles('method')\n",
    "    for methodIdx, method in enumerate(order('method')): \n",
    "        if not method in releases: \n",
    "            continue\n",
    "        for i, row in enumerate([item for sublist in releases[method] for item in sublist]): \n",
    "            if i == 0: \n",
    "                axarr[methodIdx].plot(list(range(100)), row, color=primaryColors[model][method], linewidth=1.0, label=plotTitles[methodIdx])\n",
    "            axarr[methodIdx].plot(list(range(100)), row, color=primaryColors[model][method], linewidth=0.5)\n",
    "        axarr[methodIdx].margins(0)\n",
    "        axarr[methodIdx].set_xlim(0,100)\n",
    "        axarr[methodIdx].set_ylim(0,0.11)\n",
    "        if methodIdx == 2: \n",
    "            axarr[methodIdx].set_xlabel('Time Step', fontsize=10)\n",
    "        if methodIdx == 1: \n",
    "            axarr[methodIdx].set_ylabel('Anthro. Pollution Release',fontsize=10)\n",
    "            \n",
    "        axarr[methodIdx].text(101, 0.05, plotTitles[methodIdx],  ha='left', va='center')\n",
    "\n",
    "#     fig.subplots_adjust(hspace=0)\n",
    "    fig.suptitle('Pollution Release Decisions over Time, ' + modelTitle[model].replace('\\n',' '), fontsize=12, weight='bold', y=0.99)\n",
    "    \n",
    "    save_fig(fig, 'images/levers/', 'overtime_' + model)\n",
    "    \n",
    "    plt.show()"
   ]
  },
  {
   "cell_type": "code",
   "execution_count": null,
   "metadata": {},
   "outputs": [],
   "source": [
    "model = 'dps'\n",
    "releases = {}\n",
    "for method in data.keys(): \n",
    "    nondomianted = data[method]['nondominated'][model]\n",
    "    cumReleaseLists = []\n",
    "    for nond in nondomianted: \n",
    "        releaseList = []\n",
    "        for idx, row in nond.iterrows(): \n",
    "            x = np.zeros(100)\n",
    "            for i in range(1,100): \n",
    "                x[i] = get_antropogenic_release(x[i-1], row['c1'], row['c2'], row['r1'], row['r2'], row['w1'])\n",
    "            releaseList.append(x)\n",
    "    \n",
    "        cumReleaseLists.append(releaseList)\n",
    "    releases[method] = cumReleaseLists\n",
    "    \n",
    "mapReleaseTrends(model=model, releases=releases)"
   ]
  },
  {
   "cell_type": "code",
   "execution_count": null,
   "metadata": {},
   "outputs": [],
   "source": [
    "model = 'plannedadaptive'\n",
    "releases = {}\n",
    "for method in data.keys(): \n",
    "    nondomianted = data[method]['nondominated'][model]\n",
    "    cumReleaseLists = []\n",
    "    for nond in nondomianted: \n",
    "        releaseList = []\n",
    "        for idx, row in nond.iterrows(): \n",
    "            x = np.zeros(100)\n",
    "            for i in range(1,100): \n",
    "                x[i] = get_antropogenic_release(x[i-1], row['c1'], row['c2'], row['r1'], row['r2'], row['w1'])\n",
    "            releaseList.append(x)\n",
    "    \n",
    "        cumReleaseLists.append(releaseList)\n",
    "    releases[method] = cumReleaseLists\n",
    "    \n",
    "mapReleaseTrends(model=model, releases=releases)"
   ]
  },
  {
   "cell_type": "code",
   "execution_count": null,
   "metadata": {},
   "outputs": [],
   "source": [
    "model = 'intertemporal'\n",
    "releases = {}\n",
    "for method in data.keys(): \n",
    "    leverNames = getLeverNames(models[model])\n",
    "    \n",
    "    nondomianted = data[method]['nondominated'][model]\n",
    "    cumReleaseLists = []\n",
    "    for nond in nondomianted: \n",
    "        releaseList = []\n",
    "        for idx, row in nond[leverNames].iterrows(): \n",
    "            releaseList.append(list(row))\n",
    "    \n",
    "        cumReleaseLists.append(releaseList)\n",
    "    releases[method] = cumReleaseLists\n",
    "\n",
    "mapReleaseTrends(model=model, releases=releases)"
   ]
  },
  {
   "cell_type": "markdown",
   "metadata": {},
   "source": [
    "## Release Rules"
   ]
  },
  {
   "cell_type": "code",
   "execution_count": null,
   "metadata": {},
   "outputs": [],
   "source": [
    "n = 2\n",
    "q = 2\n",
    "b = 0.42\n",
    "def fun(x):\n",
    "    return [(x[0]**q)/(1+x[0]**q) - b*x[0]]\n",
    "soln = root(fun, 0.75)\n",
    "pCrit = soln.x\n",
    "\n",
    "lake_state = np.arange(0.0,1.01,0.01)\n",
    "def buildRuleData(levers): \n",
    "    releaseList = []\n",
    "    for idx, policy in levers.iterrows(): \n",
    "        Y = np.zeros([len(lake_state)])\n",
    "        for j in range(len(lake_state)):\n",
    "            Y[j] = get_antropogenic_release([lake_state[j]], policy['c1'],policy['c2'],policy['r1'],policy['r2'],policy['w1']) # best reliability\n",
    "            \n",
    "        releaseList.append(Y)\n",
    "    return releaseList\n",
    "\n",
    "def mapReleaseRules(model, releases):\n",
    "    fig, axarr = plt.subplots(ncols=3, sharex=True, sharey=True, figsize=(7.5,2.5))\n",
    "    plotTitles = titles('method')\n",
    "\n",
    "    for idx, method in enumerate(order('method')): \n",
    "        for refIdx, releaseList in enumerate(releases[method]): \n",
    "            for Y in releaseList: \n",
    "                color = primaryColors[model][method] if method != 'multi' else fullColors[model][method][refIdx]\n",
    "                axarr[idx].plot(lake_state,Y,c=color, linewidth=0.3)\n",
    "        axarr[idx].plot([pCrit, pCrit],[0.0,0.12],c='black', linewidth=2)\n",
    "    \n",
    "        if idx == 1: \n",
    "            axarr[idx].set_xlabel('Lake Pollution Concentration',fontsize=10)\n",
    "        if idx == 0: \n",
    "            axarr[idx].set_ylabel('Anthro. Pollution Release',fontsize=10)\n",
    "        axarr[idx].set_title(plotTitles[idx], fontsize=10)\n",
    "        axarr[idx].set_xlim(0,1)\n",
    "        axarr[idx].set_ylim(0,0.12)\n",
    "        axarr[idx].tick_params(axis='both',labelsize=8)\n",
    "    \n",
    "    plt.suptitle('Recommended Anthropogenic Release Rules, ' + modelTitle[model].replace('\\n',' '), fontsize=12, weight='bold', y=1.05)\n",
    "    plt.tight_layout()\n",
    "    \n",
    "    save_fig(fig, 'images/levers/', 'rules_' + model)\n",
    "    \n",
    "    plt.show()\n"
   ]
  },
  {
   "cell_type": "code",
   "execution_count": null,
   "metadata": {},
   "outputs": [],
   "source": [
    "model = 'dps'\n",
    "releases = {}\n",
    "for method in data.keys(): \n",
    "    nondomianted = data[method]['nondominated'][model]\n",
    "    cumReleaseLists = []\n",
    "    for nond in nondomianted: \n",
    "        releaseList = buildRuleData(levers=nond[getLeverNames(models[model])])\n",
    "        cumReleaseLists.append(releaseList)\n",
    "    releases[method] = cumReleaseLists\n",
    "mapReleaseRules(model=model, releases=releases)"
   ]
  },
  {
   "cell_type": "code",
   "execution_count": null,
   "metadata": {},
   "outputs": [],
   "source": [
    "model = 'plannedadaptive'\n",
    "releases = {}\n",
    "for method in data.keys(): \n",
    "    nondomianted = data[method]['nondominated'][model]\n",
    "    cumReleaseLists = []\n",
    "    for nond in nondomianted: \n",
    "        releaseList = buildRuleData(levers=nond[getLeverNames(models[model])])\n",
    "        cumReleaseLists.append(releaseList)\n",
    "    releases[method] = cumReleaseLists\n",
    "mapReleaseRules(model=model, releases=releases)"
   ]
  },
  {
   "cell_type": "code",
   "execution_count": null,
   "metadata": {},
   "outputs": [],
   "source": []
  }
 ],
 "metadata": {
  "kernelspec": {
   "display_name": "Python 3",
   "language": "python",
   "name": "python3"
  },
  "language_info": {
   "codemirror_mode": {
    "name": "ipython",
    "version": 3
   },
   "file_extension": ".py",
   "mimetype": "text/x-python",
   "name": "python",
   "nbconvert_exporter": "python",
   "pygments_lexer": "ipython3",
   "version": "3.6.4"
  }
 },
 "nbformat": 4,
 "nbformat_minor": 2
}
