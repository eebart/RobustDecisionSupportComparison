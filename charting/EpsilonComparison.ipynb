{
 "cells": [
  {
   "cell_type": "code",
   "execution_count": null,
   "metadata": {},
   "outputs": [],
   "source": [
    "import sys\n",
    "sys.path.append('../run_analyses/')\n",
    "\n",
    "import matplotlib as mpl\n",
    "import matplotlib.pyplot as plt\n",
    "import matplotlib.gridspec as gridspec\n",
    "\n",
    "import seaborn as sns\n",
    "import numpy as np\n",
    "import pandas as pd\n",
    "\n",
    "from scipy.optimize import root\n",
    "import scipy\n",
    "\n",
    "from support.charting import primaryColors, fullColors, save_fig\n",
    "from support.load     import loadAllData, methodParams\n",
    "from support.util     import titles, order, methodTitle, modelTitle\n",
    "\n",
    "from modelConfig      import models\n",
    "from util.util        import getLeverNames\n",
    "\n",
    "from ema_workbench.analysis import parcoords\n",
    "\n",
    "from IPython.core import display as ICD"
   ]
  },
  {
   "cell_type": "code",
   "execution_count": null,
   "metadata": {},
   "outputs": [],
   "source": [
    "sns.set_style('white')"
   ]
  },
  {
   "cell_type": "markdown",
   "metadata": {},
   "source": [
    "# SMALL EPSILON VALUES"
   ]
  },
  {
   "cell_type": "code",
   "execution_count": null,
   "metadata": {},
   "outputs": [],
   "source": [
    "model = 'dps'\n",
    "method = 'mordm'\n",
    "root = '../data_smalleps'\n",
    "runs = 5\n",
    "nfe = 5000"
   ]
  },
  {
   "cell_type": "code",
   "execution_count": null,
   "metadata": {},
   "outputs": [],
   "source": [
    "archive_small = pd.read_csv(root + '/' + method + '/optimize/archives_' + model + \n",
    "           '_NSGAIIHybrid_runs' + str(runs) + '_nfe' + str(nfe) + '_scenarios10000' + '_refScenario-1' + '.csv', index_col=0)\n",
    "convergence_small = pd.read_csv(root + '/' + method + '/optimize/convergences_' + model + \n",
    "           '_NSGAIIHybrid_runs' + str(runs) + '_nfe' + str(nfe) + '_scenarios10000' + '_refScenario-1' + '.csv', index_col=0)\n",
    "nondominated_small = pd.read_csv(root + '/' + method + '/optimize/nondominated_' + model + \n",
    "           '_NSGAIIHybrid_runs' + str(runs) + '_nfe' + str(nfe) + '_scenarios10000' + '_refScenario-1' + '.csv')"
   ]
  },
  {
   "cell_type": "code",
   "execution_count": null,
   "metadata": {},
   "outputs": [],
   "source": [
    "xs = ['nfe','nfe','epsilon_progress']\n",
    "ys = ['epsilon_progress','hypervolume','hypervolume']\n",
    "\n",
    "xax = ['NFE','NFE','Epsilon Progress']\n",
    "yax = ['Epsilon Progress','Hypervolume','Hypervolume']\n",
    "\n",
    "modelIdx = 'dps'\n",
    "\n",
    "f = plt.figure(figsize=(7.5, 5.5))\n",
    "\n",
    "gs0 = gridspec.GridSpec(3, 2, width_ratios=[0.25, 20])\n",
    "\n",
    "for methodIdx, method in enumerate(['mordm']): \n",
    "    gs00 = gridspec.GridSpecFromSubplotSpec(1, 3, subplot_spec=gs0[methodIdx*2+1])\n",
    "    for plotIdx in range(len(xs)): \n",
    "        ax = plt.Subplot(f, gs00[0, plotIdx])\n",
    "        f.add_subplot(ax)\n",
    "\n",
    "        ax.spines['right'].set_visible(False)\n",
    "        ax.spines['top'].set_visible(False)\n",
    "        ax.set_xlabel(xax[plotIdx])\n",
    "        ax.set_ylabel(yax[plotIdx])\n",
    "\n",
    "        if plotIdx == 1: \n",
    "            ax.set_title('Small Epsilon-Based Search - [0.01, 0.01, 0.001, 0.001]', fontsize=12, weight='bold')\n",
    "\n",
    "        convs = [convergence_small]\n",
    "        runs = len(convs[0]['run_index'].unique())\n",
    "        if len(convs) == 1:\n",
    "            palettes = [sns.light_palette(primaryColors[model][method],n_colors=runs)]\n",
    "        else:\n",
    "            palettes = [[elem] * runs for elem in fullColors[model][method]]\n",
    "\n",
    "        grouped = []\n",
    "        for idx, elem in enumerate(convs):\n",
    "            grouped.append(elem.groupby(['run_index']))\n",
    "\n",
    "        for groupIdx, conv in enumerate(grouped): \n",
    "            for name, group in conv:\n",
    "                ax.plot(group[xs[plotIdx]],group[ys[plotIdx]],color=palettes[groupIdx][name], linewidth=0.5)\n",
    "\n",
    "        nfe = 5000\n",
    "        if plotIdx < 2: \n",
    "            ax.set_xticks([0,nfe/2,nfe])\n",
    "\n",
    "        for tick in ax.xaxis.get_major_ticks():\n",
    "            tick.label.set_fontsize(8)\n",
    "        for tick in ax.yaxis.get_major_ticks():\n",
    "            tick.label.set_fontsize(8) \n",
    "plt.tight_layout(pad=0.5, w_pad=2.5)\n",
    "save_fig(f, 'images/appendix/', 'smalleps_convergence_' + model)\n",
    "plt.show()"
   ]
  },
  {
   "cell_type": "markdown",
   "metadata": {},
   "source": [
    "# LARGE EPSILON VALUES"
   ]
  },
  {
   "cell_type": "code",
   "execution_count": null,
   "metadata": {},
   "outputs": [],
   "source": [
    "model = 'dps'\n",
    "method = 'mordm'\n",
    "root = '../data'\n",
    "runs = 50\n",
    "nfe = 100000"
   ]
  },
  {
   "cell_type": "code",
   "execution_count": null,
   "metadata": {},
   "outputs": [],
   "source": [
    "archive_big = pd.read_csv(root + '/' + method + '/optimize/archives_' + model + \n",
    "           '_NSGAIIHybrid_runs' + str(runs) + '_nfe' + str(nfe) + '_scenarios10000' + '_refScenario-1' + '.csv', index_col=0)\n",
    "convergence_big = pd.read_csv(root + '/' + method + '/optimize/convergences_' + model + \n",
    "           '_NSGAIIHybrid_runs' + str(runs) + '_nfe' + str(nfe) + '_scenarios10000' + '_refScenario-1' + '.csv', index_col=0)\n",
    "nondominated_big = pd.read_csv(root + '/' + method + '/optimize/nondominated_' + model + \n",
    "           '_NSGAIIHybrid_runs' + str(runs) + '_nfe' + str(nfe) + '_scenarios10000' + '_refScenario-1' + '.csv')"
   ]
  },
  {
   "cell_type": "code",
   "execution_count": null,
   "metadata": {},
   "outputs": [],
   "source": [
    "xs = ['nfe','nfe','epsilon_progress']\n",
    "ys = ['epsilon_progress','hypervolume','hypervolume']\n",
    "\n",
    "xax = ['NFE','NFE','Epsilon Progress']\n",
    "yax = ['Epsilon Progress','Hypervolume','Hypervolume']\n",
    "\n",
    "modelIdx = 'dps'\n",
    "\n",
    "f = plt.figure(figsize=(7.5, 5.5))\n",
    "\n",
    "gs0 = gridspec.GridSpec(3, 2, width_ratios=[0.25, 20])\n",
    "\n",
    "for methodIdx, method in enumerate(['mordm']): \n",
    "    gs00 = gridspec.GridSpecFromSubplotSpec(1, 3, subplot_spec=gs0[methodIdx*2+1])\n",
    "    for plotIdx in range(len(xs)): \n",
    "        ax = plt.Subplot(f, gs00[0, plotIdx])\n",
    "        f.add_subplot(ax)\n",
    "\n",
    "        ax.spines['right'].set_visible(False)\n",
    "        ax.spines['top'].set_visible(False)\n",
    "        ax.set_xlabel(xax[plotIdx])\n",
    "        ax.set_ylabel(yax[plotIdx])\n",
    "\n",
    "        if plotIdx == 1: \n",
    "            ax.set_title('Large Epsilon-Based Search - [0.1, 0.1, 0.01, 0.01]', fontsize=12, weight='bold')\n",
    "\n",
    "        convs = [convergence_big]\n",
    "        runs = len(convs[0]['run_index'].unique())\n",
    "        if len(convs) == 1:\n",
    "            palettes = [sns.light_palette(primaryColors[model][method],n_colors=runs)]\n",
    "        else:\n",
    "            palettes = [[elem] * runs for elem in fullColors[model][method]]\n",
    "\n",
    "        grouped = []\n",
    "        for idx, elem in enumerate(convs):\n",
    "            grouped.append(elem.groupby(['run_index']))\n",
    "\n",
    "        for groupIdx, conv in enumerate(grouped): \n",
    "            for name, group in conv:\n",
    "                ax.plot(group[xs[plotIdx]],group[ys[plotIdx]],color=palettes[groupIdx][name], linewidth=0.5)\n",
    "\n",
    "        nfe = 5000\n",
    "        if plotIdx < 2: \n",
    "            ax.set_xlim(0,5000)\n",
    "            ax.set_xticks([0,nfe/2,nfe])\n",
    "        if plotIdx == 0: \n",
    "            ax.set_ylim(0,600)\n",
    "\n",
    "        for tick in ax.xaxis.get_major_ticks():\n",
    "            tick.label.set_fontsize(8)\n",
    "        for tick in ax.yaxis.get_major_ticks():\n",
    "            tick.label.set_fontsize(8) \n",
    "plt.tight_layout(pad=0.5, w_pad=2.5)\n",
    "save_fig(f, 'images/appendix/', 'bigeps_convergence_' + model)\n",
    "plt.show()"
   ]
  },
  {
   "cell_type": "markdown",
   "metadata": {},
   "source": [
    "# Lever Comparison of Nondominated Sets"
   ]
  },
  {
   "cell_type": "code",
   "execution_count": null,
   "metadata": {},
   "outputs": [],
   "source": [
    "levers = getLeverNames(models[model])\n",
    "leverVals = []\n",
    "for lever in levers: \n",
    "    leverVal = nondominated_big[lever]\n",
    "    df = pd.DataFrame(leverVal)\n",
    "    df.columns = ['value']\n",
    "    df['method'] = method\n",
    "    df['lever'] = lever\n",
    "    df['epsilon'] = 'Big'\n",
    "    leverVals.append(df)\n",
    "\n",
    "for lever in levers: \n",
    "    leverVal = nondominated_small[lever]\n",
    "    df = pd.DataFrame(leverVal)\n",
    "    df.columns = ['value']\n",
    "    df['method'] = method\n",
    "    df['lever'] = lever\n",
    "    df['epsilon'] = 'Small'\n",
    "    leverVals.append(df)\n",
    "\n",
    "df = pd.concat(leverVals)"
   ]
  },
  {
   "cell_type": "code",
   "execution_count": null,
   "metadata": {},
   "outputs": [],
   "source": [
    "def showLeverRanges(model, df):\n",
    "    pal = {'Big': '#009ac6','Small': '#66c2dc'}\n",
    "    for tp in ['box','violin']: \n",
    "        g = sns.factorplot(x=\"epsilon\", y=\"value\", col=\"lever\", palette=pal,\n",
    "                           data=df, kind=tp,\n",
    "                           size=4, aspect=.7)\n",
    "        g.set_axis_labels('', \"Value\").set_titles(\"{col_name}\").set_xticklabels(['Big Epsilons','Small Epsilons'])\n",
    "\n",
    "        plt.suptitle('Decision Lever Ranges for ' + modelTitle[model].replace('\\n',' ') + ' + ' + methodTitle['mordm'] + ' Analysis', fontsize=14,weight='bold',y=1.1)\n",
    "        \n",
    "        save_fig(g, 'images/appendix/', 'leverranges_epsilons_' + tp)\n",
    "        \n",
    "        plt.show()\n",
    "\n",
    "    return g"
   ]
  },
  {
   "cell_type": "code",
   "execution_count": null,
   "metadata": {},
   "outputs": [],
   "source": [
    "showLeverRanges('dps', df)"
   ]
  },
  {
   "cell_type": "markdown",
   "metadata": {},
   "source": [
    "# SIMILARITY"
   ]
  },
  {
   "cell_type": "code",
   "execution_count": null,
   "metadata": {},
   "outputs": [],
   "source": [
    "# Data Prep\n",
    "normalRanges = {\n",
    "    'dps': pd.DataFrame({'c1':[-2,2],'c2':[-2,2],'r1':[0,2],'r2':[0,2],'w1':[0,1]}),\n",
    "}\n",
    "for name, rg in normalRanges.items(): \n",
    "    rg = rg.append(rg.diff(periods=1, axis=0).iloc[1])\n",
    "    rg.index = ['min','max','diff']\n",
    "    normalRanges[name] = rg\n",
    "\n",
    "nondFrames = {'big':{},'small':{}}\n",
    "normalFrames = {'big':{},'small':{}}\n",
    "\n",
    "model='dps'\n",
    "for size, nondominateArray in {'big':nondominated_big,'small':nondominated_small}.items(): \n",
    "        leverNames = getLeverNames(models['dps'])\n",
    "\n",
    "        if not isinstance(nondominateArray, list): \n",
    "            nondominateArray = [nondominateArray]\n",
    "        for idx, nond in enumerate(nondominateArray): \n",
    "            if len(nondominateArray) > 1: \n",
    "                ref = 'Ref' + str(idx)\n",
    "                if idx == len(nondominateArray) - 1: \n",
    "                    ref = 'Base'\n",
    "                nond['id'] = ref + ':' + nond.index.map(str)\n",
    "                nond.index = nond['id']\n",
    "                nond.index.name = ''\n",
    "        \n",
    "        nondFrame = pd.concat(nondominateArray)\n",
    "        \n",
    "        nondFrames[size] = nondFrame[leverNames]\n",
    "        normalFrames[size] = (nondFrames[size] - normalRanges[model].loc['min',:])/normalRanges[model].loc['diff',:]"
   ]
  },
  {
   "cell_type": "code",
   "execution_count": null,
   "metadata": {},
   "outputs": [],
   "source": [
    "distances = {'big':{},'small':{}}\n",
    "distData = []\n",
    "\n",
    "for size in ['big','small']: \n",
    "        normal = scipy.spatial.distance.cdist(normalFrames[size], normalFrames[size], metric='euclidean')\n",
    "        distances[size] = pd.DataFrame(normal,columns=nondFrames[size].index,index=nondFrames[size].index)\n",
    "        \n",
    "        corr = distances[size].values\n",
    "        mask = np.zeros_like(corr, dtype=np.bool)\n",
    "        mask[np.triu_indices_from(mask)] = True\n",
    "        mx = np.ma.masked_array(corr, mask=mask).flatten()\n",
    "        \n",
    "        df = pd.DataFrame({'distance':mx})\n",
    "        df['model'] = model\n",
    "        df['size'] = size\n",
    "        df['hue'] = df['model'] + '.' + df['size']\n",
    "        distData.append(df.dropna(axis=0, how='any'))\n",
    "        \n",
    "distData = pd.concat(distData)"
   ]
  },
  {
   "cell_type": "code",
   "execution_count": null,
   "metadata": {},
   "outputs": [],
   "source": [
    "pal = {'big': '#009ac6','small': '#66c2dc'}\n",
    "for tp in ['box','violin']: \n",
    "    g = sns.factorplot(x=\"size\", y=\"distance\", col=\"model\", palette=pal,\n",
    "                           data=distData, kind=tp)\n",
    "    g.set_xticklabels(['Big Epsilons','Small Epsilons']).set_titles('').set_axis_labels('', \"Distance\")\n",
    "\n",
    "    plt.suptitle('Similarity of policy alternatives\\nconsidering on different epsilon values', fontsize=14,weight='bold',y=1.1)\n",
    "\n",
    "    save_fig(g, 'images/appendix/', 'epsilons_similarity_' + tp)\n",
    "\n",
    "    plt.show()\n"
   ]
  },
  {
   "cell_type": "markdown",
   "metadata": {},
   "source": [
    "# ROBUSTNESS"
   ]
  },
  {
   "cell_type": "code",
   "execution_count": null,
   "metadata": {},
   "outputs": [],
   "source": []
  }
 ],
 "metadata": {
  "kernelspec": {
   "display_name": "Python 3",
   "language": "python",
   "name": "python3"
  },
  "language_info": {
   "codemirror_mode": {
    "name": "ipython",
    "version": 3
   },
   "file_extension": ".py",
   "mimetype": "text/x-python",
   "name": "python",
   "nbconvert_exporter": "python",
   "pygments_lexer": "ipython3",
   "version": "3.6.4"
  }
 },
 "nbformat": 4,
 "nbformat_minor": 2
}
