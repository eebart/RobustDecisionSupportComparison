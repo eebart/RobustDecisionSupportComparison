{
 "cells": [
  {
   "cell_type": "code",
   "execution_count": null,
   "metadata": {},
   "outputs": [],
   "source": [
    "import sys\n",
    "sys.path.append('../run_analyses/')\n",
    "\n",
    "import matplotlib as mpl\n",
    "import matplotlib.pyplot as plt\n",
    "import seaborn as sns\n",
    "import numpy as np\n",
    "import pandas as pd\n",
    "\n",
    "# from start_run import *\n",
    "from support.charting import primaryColors, fullColors, save_fig\n",
    "from support.load     import loadAllData, methodParams\n",
    "from support.util     import titles, order, methodTitle, modelTitle\n",
    "\n",
    "from modelConfig      import models\n",
    "from util.util        import getLeverNames\n",
    "\n",
    "from ema_workbench.analysis import parcoords\n",
    "\n",
    "from IPython.core import display as ICD"
   ]
  },
  {
   "cell_type": "code",
   "execution_count": null,
   "metadata": {},
   "outputs": [],
   "source": [
    "sns.set_style('white')\n",
    "data = loadAllData()"
   ]
  },
  {
   "cell_type": "code",
   "execution_count": null,
   "metadata": {},
   "outputs": [],
   "source": [
    "robustData = {}\n",
    "for method in data.keys(): \n",
    "    robustData[method] = {}\n",
    "    for model in data[method]['robusts'].keys(): \n",
    "        robustData[method][model] = []\n",
    "        for idx in range(len(data[method]['robusts'][model])):\n",
    "            df = data[method]['robusts'][model][idx][order('outcome')]\n",
    "            df = df.rename(columns={'max_P_percent': 'Fraction\\nPollution', 'reliability_percent': 'Fraction\\nReliability', \n",
    "                                          'utility_percent': 'Fraction\\nUtility', 'inertia_percent': 'Fraction\\nInertia'})\n",
    "            robustData[method][model].append(df)"
   ]
  },
  {
   "cell_type": "code",
   "execution_count": null,
   "metadata": {},
   "outputs": [],
   "source": [
    "def robust_parallel_axes(robust, color): \n",
    "    sns.set_palette(sns.light_palette(color, n_colors=robust.shape[0]))\n",
    "\n",
    "    limits = parcoords.get_limits(robust)\n",
    "    limits.iloc[0, :] = 0\n",
    "    limits.iloc[1, :] = 1\n",
    "\n",
    "    axes = parcoords.ParallelAxes(limits, rot=0, fontsize=12)\n",
    "    \n",
    "    return axes\n",
    "\n",
    "def reorderDatalabels(kind='method', axes=None): \n",
    "    newOrder = [None, None, None]\n",
    "    if kind == 'method': \n",
    "        for item in axes.datalabels: \n",
    "            if item[0] == methodTitle['mordm']: \n",
    "                newOrder[0] = item\n",
    "            elif item[0] == methodTitle['multi']: \n",
    "                newOrder[1] = item\n",
    "            else: \n",
    "                newOrder[2] = item\n",
    "    elif kind == 'model': \n",
    "        for item in axes.datalabels: \n",
    "            if item[0] == modelTitle['dps'].replace('\\n',' '): \n",
    "                newOrder[2] = item\n",
    "            elif item[0] == modelTitle['plannedadaptive'].replace('\\n',' '): \n",
    "                newOrder[1] = item\n",
    "            else: \n",
    "                newOrder[0] = item\n",
    "    axes.datalabels = newOrder\n",
    "    return axes\n",
    "\n",
    "def parallelRobustSummary(model, robustData, root=''): \n",
    "    axes = robust_parallel_axes(robustData['mordm'][model][0], primaryColors[model]['mordm'])\n",
    "    axes.plot(robustData['mordm'][model][0], linewidth=0.5)\n",
    "    axes.fig.suptitle(methodTitle['mordm'], fontsize=14, weight='bold', y = 1.03)\n",
    "    save_fig(axes.fig, 'images/robust','parallel_mordm_' + model)\n",
    "    plt.show()\n",
    "\n",
    "    axes = robust_parallel_axes(robustData['multi'][model][0], primaryColors[model]['multi'])\n",
    "    colors = list(reversed(fullColors[model]['multi']))\n",
    "    for idx, robust in enumerate(list(reversed(robustData['multi'][model]))): \n",
    "        axes.plot(robust, color=colors[idx], linewidth=0.5)\n",
    "    axes.fig.suptitle(methodTitle['multi'], fontsize=14, weight='bold', y = 1.03)\n",
    "    save_fig(axes.fig, 'images/robust','parallel_multi_' + model + '_' + root)\n",
    "    plt.show()\n",
    "\n",
    "    axes = robust_parallel_axes(robustData['moro'][model][0], primaryColors[model]['moro'])\n",
    "    axes.plot(robustData['moro'][model][0], linewidth=0.5, color=primaryColors[model]['moro'])\n",
    "    axes.fig.suptitle(methodTitle['moro'], fontsize=14, weight='bold', y = 1.03)\n",
    "    save_fig(axes.fig, 'images/robust','parallel_multi_' + model + '_' + root)\n",
    "    plt.show()"
   ]
  },
  {
   "cell_type": "markdown",
   "metadata": {},
   "source": [
    "# Separate Pareto Results\n",
    "\n",
    "### DPS"
   ]
  },
  {
   "cell_type": "code",
   "execution_count": null,
   "metadata": {},
   "outputs": [],
   "source": [
    "parallelRobustSummary('dps',robustData)"
   ]
  },
  {
   "cell_type": "markdown",
   "metadata": {},
   "source": [
    "### Planned Adaptive DPS"
   ]
  },
  {
   "cell_type": "code",
   "execution_count": null,
   "metadata": {},
   "outputs": [],
   "source": [
    "parallelRobustSummary('plannedadaptive',robustData)"
   ]
  },
  {
   "cell_type": "markdown",
   "metadata": {},
   "source": [
    "### Intertemporal"
   ]
  },
  {
   "cell_type": "code",
   "execution_count": null,
   "metadata": {},
   "outputs": [],
   "source": [
    "goodInertia = {}\n",
    "badInertia = {}\n",
    "for method in robustData.keys(): \n",
    "    goodInertia[method] = {'intertemporal':[]}\n",
    "    badInertia[method] = {'intertemporal':[]}\n",
    "    for dat in robustData[method]['intertemporal']:\n",
    "        goodInertia[method]['intertemporal'].append(dat.loc[dat['Fraction\\nInertia'] > 0.5])\n",
    "        badInertia[method]['intertemporal'].append(dat.loc[dat['Fraction\\nInertia'] <= 0.5])"
   ]
  },
  {
   "cell_type": "code",
   "execution_count": null,
   "metadata": {},
   "outputs": [],
   "source": [
    "parallelRobustSummary('intertemporal',robustData)"
   ]
  },
  {
   "cell_type": "code",
   "execution_count": null,
   "metadata": {},
   "outputs": [],
   "source": [
    "parallelRobustSummary('intertemporal',goodInertia,'good')"
   ]
  },
  {
   "cell_type": "code",
   "execution_count": null,
   "metadata": {},
   "outputs": [],
   "source": [
    "parallelRobustSummary('intertemporal',badInertia,'bad')"
   ]
  },
  {
   "cell_type": "markdown",
   "metadata": {},
   "source": [
    "# Comparing Lever Values"
   ]
  },
  {
   "cell_type": "code",
   "execution_count": null,
   "metadata": {},
   "outputs": [],
   "source": [
    "linewidth = 0.5"
   ]
  },
  {
   "cell_type": "code",
   "execution_count": null,
   "metadata": {},
   "outputs": [],
   "source": [
    "key = 'dps'\n",
    "\n",
    "axes = robust_parallel_axes(robustData['mordm'][key][0], primaryColors[key]['mordm'])\n",
    "\n",
    "axes.plot(pd.concat(robustData['multi'][key]), color=primaryColors[key]['multi'], label=methodTitle['multi'], linewidth=linewidth)\n",
    "axes.plot(robustData['mordm'][key][0],color=primaryColors[key]['mordm'], label=methodTitle['mordm'], linewidth=linewidth)   \n",
    "axes.plot(robustData['moro'][key][0],color=primaryColors[key]['moro'], label=methodTitle['moro'], linewidth=linewidth)\n",
    "\n",
    "axes = reorderDatalabels(kind='method', axes=axes)\n",
    "axes.legend()\n",
    "axes.fig.suptitle(modelTitle[key].replace('\\n',' ') + ' Comparison', fontsize=16, weight='bold', y = 1.05)\n",
    "plt.show()"
   ]
  },
  {
   "cell_type": "code",
   "execution_count": null,
   "metadata": {},
   "outputs": [],
   "source": [
    "key = 'plannedadaptive'\n",
    "\n",
    "axes = robust_parallel_axes(robustData['mordm'][key][0], primaryColors[key]['mordm'])\n",
    "\n",
    "axes.plot(pd.concat(robustData['multi'][key]), color=primaryColors[key]['multi'], label=methodTitle['multi'], linewidth=linewidth)\n",
    "axes.plot(robustData['mordm'][key][0],color=primaryColors[key]['mordm'], label=methodTitle['mordm'], linewidth=linewidth)   \n",
    "axes.plot(robustData['moro'][key][0],color=primaryColors[key]['moro'], label=methodTitle['moro'], linewidth=linewidth)\n",
    "\n",
    "axes = reorderDatalabels(kind='method', axes=axes)\n",
    "axes.legend()\n",
    "axes.fig.suptitle(modelTitle[key].replace('\\n',' ') + ' Comparison', fontsize=16, weight='bold', y = 1.05)\n",
    "plt.show()"
   ]
  },
  {
   "cell_type": "code",
   "execution_count": null,
   "metadata": {},
   "outputs": [],
   "source": [
    "key = 'intertemporal'\n",
    "\n",
    "axes = robust_parallel_axes(robustData['mordm'][key][0], primaryColors[key]['mordm'])\n",
    "\n",
    "axes.plot(pd.concat(robustData['multi'][key]), color=primaryColors[key]['multi'], label=methodTitle['multi'], linewidth=linewidth)\n",
    "axes.plot(robustData['mordm'][key][0],color=primaryColors[key]['mordm'], label=methodTitle['mordm'], linewidth=linewidth)   \n",
    "axes.plot(robustData['moro'][key][0],color=primaryColors[key]['moro'], label=methodTitle['moro'], linewidth=linewidth)\n",
    "\n",
    "axes = reorderDatalabels(kind='method', axes=axes)\n",
    "axes.legend()\n",
    "axes.fig.suptitle(modelTitle[key].replace('\\n',' ') + ' Comparison', fontsize=16, weight='bold', y = 1.05)\n",
    "plt.show()"
   ]
  },
  {
   "cell_type": "code",
   "execution_count": null,
   "metadata": {},
   "outputs": [],
   "source": [
    "method = 'mordm'\n",
    "\n",
    "axes = robust_parallel_axes(robustData[method]['dps'][0], primaryColors[key]['mordm'])\n",
    "\n",
    "axes.plot(robustData[method]['dps'][0],color=primaryColors['dps'][method], label=modelTitle['dps'].replace('\\n',' '), linewidth=linewidth) \n",
    "axes.plot(robustData[method]['intertemporal'][0],color=primaryColors['intertemporal'][method], label=modelTitle['intertemporal'].replace('\\n',' '), linewidth=linewidth)\n",
    "axes.plot(robustData[method]['plannedadaptive'][0],color=primaryColors['plannedadaptive'][method], label=modelTitle['plannedadaptive'].replace('\\n',' '), linewidth=linewidth)\n",
    "\n",
    "axes = reorderDatalabels(kind='model', axes=axes)\n",
    "axes.legend()\n",
    "axes.fig.suptitle(methodTitle[method] + ' Comparison', fontsize=16, weight='bold', y = 1.05)\n",
    "plt.show()"
   ]
  },
  {
   "cell_type": "code",
   "execution_count": null,
   "metadata": {},
   "outputs": [],
   "source": [
    "method = 'multi'\n",
    "\n",
    "axes = robust_parallel_axes(robustData[method]['dps'][0], primaryColors[key]['mordm'])\n",
    "\n",
    "axes.plot(robustData[method]['dps'][0],color=primaryColors['dps'][method], label=modelTitle['dps'].replace('\\n',' '), linewidth=linewidth) \n",
    "axes.plot(robustData[method]['intertemporal'][0],color=primaryColors['intertemporal'][method], label=modelTitle['intertemporal'].replace('\\n',' '), linewidth=linewidth)\n",
    "axes.plot(robustData[method]['plannedadaptive'][0],color=primaryColors['plannedadaptive'][method], label=modelTitle['plannedadaptive'].replace('\\n',' '), linewidth=linewidth)\n",
    "\n",
    "axes = reorderDatalabels(kind='model', axes=axes)\n",
    "axes.legend()\n",
    "axes.fig.suptitle(methodTitle[method] + ' Comparison', fontsize=16, weight='bold', y = 1.05)\n",
    "plt.show()"
   ]
  },
  {
   "cell_type": "code",
   "execution_count": null,
   "metadata": {},
   "outputs": [],
   "source": [
    "method = 'moro'\n",
    "\n",
    "axes = robust_parallel_axes(robustData[method]['dps'][0], primaryColors[key]['mordm'])\n",
    "\n",
    "axes.plot(robustData[method]['dps'][0],color=primaryColors['dps'][method], label=modelTitle['dps'].replace('\\n',' '), linewidth=linewidth) \n",
    "axes.plot(robustData[method]['intertemporal'][0],color=primaryColors['intertemporal'][method], label=modelTitle['intertemporal'].replace('\\n',' '), linewidth=linewidth)\n",
    "axes.plot(robustData[method]['plannedadaptive'][0],color=primaryColors['plannedadaptive'][method], label=modelTitle['plannedadaptive'].replace('\\n',' '), linewidth=linewidth)\n",
    "\n",
    "axes = reorderDatalabels(kind='model', axes=axes)\n",
    "axes.legend()\n",
    "axes.fig.suptitle(methodTitle[method] + ' Comparison', fontsize=16, weight='bold', y = 1.05)\n",
    "plt.show()"
   ]
  },
  {
   "cell_type": "markdown",
   "metadata": {},
   "source": [
    "# Robust Value Ranges"
   ]
  },
  {
   "cell_type": "code",
   "execution_count": null,
   "metadata": {},
   "outputs": [],
   "source": [
    "def showRobustRanges(model, robustData):\n",
    "    leverVals = []\n",
    "    for method in order('method'):\n",
    "        data = pd.concat(robustData[method][model])\n",
    "        for rob in data.columns: \n",
    "            robVals = data[rob]\n",
    "            df = pd.DataFrame(robVals)\n",
    "            df.columns = ['value']\n",
    "            df['method'] = method\n",
    "            df['robust_outcome'] = rob\n",
    "            leverVals.append(df)\n",
    "\n",
    "    df = pd.concat(leverVals)\n",
    "    pal = {'mordm': primaryColors[model]['mordm'],'multi': primaryColors[model]['multi'],'moro': primaryColors[model]['moro']}\n",
    "    for tp in ['violin','box']: \n",
    "        g = sns.factorplot(x=\"method\", y=\"value\", col=\"robust_outcome\", palette=pal,\n",
    "                           data=df, kind=tp,\n",
    "                           size=4, aspect=.7).set_titles(\"{col_name}\".replace('\\n',' '))    \n",
    "        g.set_axis_labels('', \"Value\").set_xticklabels(['MORDM','Multi-Scenario\\nMORDM','MORO'])\n",
    "        plt.suptitle('Robust Outcome Ranges for ' + modelTitle[model].replace('\\n',' '), fontsize=16,weight='bold',y=1.05)\n",
    "        \n",
    "        save_fig(g, 'images/robust/', 'outcomeranges_' + tp + '_' + model)\n",
    "        \n",
    "        plt.show()"
   ]
  },
  {
   "cell_type": "code",
   "execution_count": null,
   "metadata": {},
   "outputs": [],
   "source": [
    "showRobustRanges('dps', robustData)"
   ]
  },
  {
   "cell_type": "code",
   "execution_count": null,
   "metadata": {},
   "outputs": [],
   "source": [
    "showRobustRanges('plannedadaptive', robustData)"
   ]
  },
  {
   "cell_type": "code",
   "execution_count": null,
   "metadata": {},
   "outputs": [],
   "source": [
    "showRobustRanges('intertemporal', robustData)"
   ]
  },
  {
   "cell_type": "code",
   "execution_count": null,
   "metadata": {},
   "outputs": [],
   "source": []
  }
 ],
 "metadata": {
  "kernelspec": {
   "display_name": "Python 3",
   "language": "python",
   "name": "python3"
  },
  "language_info": {
   "codemirror_mode": {
    "name": "ipython",
    "version": 3
   },
   "file_extension": ".py",
   "mimetype": "text/x-python",
   "name": "python",
   "nbconvert_exporter": "python",
   "pygments_lexer": "ipython3",
   "version": "3.6.4"
  }
 },
 "nbformat": 4,
 "nbformat_minor": 2
}
