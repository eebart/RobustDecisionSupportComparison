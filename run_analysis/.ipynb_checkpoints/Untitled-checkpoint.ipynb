{
 "cells": [
  {
   "cell_type": "code",
   "execution_count": 2,
   "metadata": {},
   "outputs": [],
   "source": [
    "import sys\n",
    "sys.path.append('../charting/')\n",
    "\n",
    "import numpy.lib.recfunctions as rf\n",
    "from functools import partial\n",
    "import numpy as np\n",
    "import pandas as pd\n",
    "\n",
    "import pickle\n",
    "import os\n",
    "\n",
    "from start_run import *\n",
    "from methodConfig import methodFunctions, runPareto\n",
    "from modelConfig import models\n",
    "\n",
    "import matplotlib.pyplot as plt\n",
    "import matplotlib.gridspec as gridspec\n",
    "\n",
    "import seaborn as sns\n",
    "import numpy as np\n",
    "import pandas as pd\n",
    "\n",
    "from support.charting import primaryColors, fullColors, save_fig\n",
    "from support.load     import loadAllData\n",
    "from support.util     import titles, order\n",
    "\n",
    "from ema_workbench.em_framework.samplers import sample_uncertainties"
   ]
  },
  {
   "cell_type": "code",
   "execution_count": 3,
   "metadata": {},
   "outputs": [],
   "source": [
    "model = 'dps'\n",
    "method = 'mordm'\n",
    "root = 'data_smalleps'\n",
    "runs = 5\n",
    "nfe = 5000"
   ]
  },
  {
   "cell_type": "code",
   "execution_count": null,
   "metadata": {},
   "outputs": [],
   "source": [
    "convs = []\n",
    "archs = []\n",
    "\n",
    "for (classpath, classnames, filenames) in os.walk(root + '/' + method + '/optimize/' + model + '/'):\n",
    "    for file in filenames:\n",
    "        \n",
    "        if file.find('.csv') == -1: \n",
    "            continue\n",
    "        index = int(file[file.rfind('_')+1:file.find('.csv')])\n",
    "        df = pd.read_csv(classpath + file, index_col=0)\n",
    "        df['run_index'] = index\n",
    "        df.to_csv(classpath + file)\n",
    "        \n",
    "        if file.find('convergences') != -1:\n",
    "            convs.append(df)\n",
    "        else: \n",
    "            if 'fraction max_p' in df: \n",
    "                df.rename(columns={'fraction max_p': 'fraction max_P'}, inplace=True)\n",
    "            archs.append(df)\n",
    "    break\n",
    "print(len(convs),len(archs))"
   ]
  },
  {
   "cell_type": "code",
   "execution_count": null,
   "metadata": {},
   "outputs": [],
   "source": [
    "convergence = pd.concat(convs)\n",
    "archive = pd.concat(archs)\n",
    "\n",
    "conv['repetition'] = conv.index\n",
    "conv = conv.sort_values(by=['run_index', 'repetition'])\n",
    "del conv['repetition']\n",
    "arch['repetition'] = arch.index\n",
    "arch = arch.sort_values(by=['run_index', 'repetition'])\n",
    "del arch['repetition']"
   ]
  },
  {
   "cell_type": "code",
   "execution_count": null,
   "metadata": {},
   "outputs": [],
   "source": [
    "arch.to_csv(root + '/' + method + '/optimize/archives_' + model + \n",
    "           '_NSGAIIHybrid_runs' + str(runs) + '_nfe' + str(nfe) + '.csv')\n",
    "conv.to_csv(root + '/' + method + '/optimize/convergences_'+ model + \n",
    "            '_NSGAIIHybrid_runs' + str(runs) + '_nfe' + str(nfe) + '.csv')"
   ]
  },
  {
   "cell_type": "code",
   "execution_count": 8,
   "metadata": {},
   "outputs": [],
   "source": [
    "archive = pd.read_csv(root + '/' + method + '/optimize/archives_' + model + \n",
    "           '_NSGAIIHybrid_runs' + str(runs) + '_nfe' + str(nfe) + '_scenarios10000' + '_refScenario-1' + '.csv', index_col=0)\n",
    "convergence = pd.read_csv(root + '/' + method + '/optimize/convergences_' + model + \n",
    "           '_NSGAIIHybrid_runs' + str(runs) + '_nfe' + str(nfe) + '_scenarios10000' + '_refScenario-1' + '.csv', index_col=0)"
   ]
  },
  {
   "cell_type": "code",
   "execution_count": 4,
   "metadata": {},
   "outputs": [
    {
     "data": {
      "text/plain": [
       "<methodConfig.MordmParams at 0x10c84e6d8>"
      ]
     },
     "execution_count": 4,
     "metadata": {},
     "output_type": "execute_result"
    }
   ],
   "source": [
    "methodParams['mordm'].epsilons = [0.01,0.01,0.001,0.001]\n",
    "methodParams['mordm']"
   ]
  },
  {
   "cell_type": "code",
   "execution_count": 5,
   "metadata": {},
   "outputs": [
    {
     "data": {
      "text/plain": [
       "{'algoName': 'NSGAIIHybrid',\n",
       " 'algorithm': util.NSGAIIHybrid.NSGAIIHybrid,\n",
       " 'baseScenario': dict_values([0.42, 0.98, 0.02, 2, 0.0017]),\n",
       " 'createNewOptimizationResults': True,\n",
       " 'createNewReevaluationResults': True,\n",
       " 'createNewReevaluationScenarios': True,\n",
       " 'createNewRobustResults': True,\n",
       " 'epsilons': [0.01, 0.01, 0.001, 0.001],\n",
       " 'evaluationScenarios': None,\n",
       " 'name': 'mordm',\n",
       " 'nfeOptimize': {'dps': 100000,\n",
       "  'intertemporal': 500000,\n",
       "  'plannedadaptive': 100000},\n",
       " 'numEvaluationScenarios': 10000,\n",
       " 'numberOptimizationRepetitions': 50,\n",
       " 'optimizeOutputFolder': 'data_smalleps/mordm/optimize/',\n",
       " 'reevaluateOutputFolder': 'data_smalleps/mordm/reevaluate/',\n",
       " 'robustOutputFolder': 'data_smalleps/mordm/robustness/'}"
      ]
     },
     "execution_count": 5,
     "metadata": {},
     "output_type": "execute_result"
    }
   ],
   "source": [
    "vars(methodParams['mordm'])"
   ]
  },
  {
   "cell_type": "code",
   "execution_count": 9,
   "metadata": {},
   "outputs": [
    {
     "name": "stdout",
     "output_type": "stream",
     "text": [
      "Policies on front: 683\n"
     ]
    }
   ],
   "source": [
    "methodFunctions['mordm']['pareto']\n",
    "nondominated = runPareto(models['dps'],methodParams['mordm'],archive=archive, refNum=-1,outcomes=models['dps'].outcomes)\n",
    "# nondominated.to_csv(root + '/' + method + '/optimize/nondominated_' + model + \n",
    "#                     '_NSGAIIHybrid_runs' + str(runs) + '_nfe' + str(nfe) + '_scenarios10000' + '_refScenario-1' + '.csv')"
   ]
  },
  {
   "cell_type": "code",
   "execution_count": 11,
   "metadata": {},
   "outputs": [],
   "source": [
    "sns.set_style('white')"
   ]
  },
  {
   "cell_type": "code",
   "execution_count": 12,
   "metadata": {},
   "outputs": [
    {
     "data": {
      "image/png": "[encoded data removed]",
      "text/plain": [
       "<matplotlib.figure.Figure at 0x10e9eb550>"
      ]
     },
     "metadata": {},
     "output_type": "display_data"
    }
   ],
   "source": [
    "xs = ['nfe','nfe','epsilon_progress']\n",
    "ys = ['epsilon_progress','hypervolume','hypervolume']\n",
    "\n",
    "xax = ['NFE','NFE','Epsilon Progress']\n",
    "yax = ['Epsilon Progress','Hypervolume','Hypervolume']\n",
    "\n",
    "modelIdx = 'dps'\n",
    "\n",
    "f = plt.figure(figsize=(7.5, 5.5))\n",
    "\n",
    "gs0 = gridspec.GridSpec(3, 2, width_ratios=[0.25, 20])\n",
    "\n",
    "for methodIdx, method in enumerate(['mordm']): \n",
    "    gs00 = gridspec.GridSpecFromSubplotSpec(1, 3, subplot_spec=gs0[methodIdx*2+1])\n",
    "    for plotIdx in range(len(xs)): \n",
    "        ax = plt.Subplot(f, gs00[0, plotIdx])\n",
    "        f.add_subplot(ax)\n",
    "\n",
    "        ax.spines['right'].set_visible(False)\n",
    "        ax.spines['top'].set_visible(False)\n",
    "        ax.set_xlabel(xax[plotIdx])\n",
    "        ax.set_ylabel(yax[plotIdx])\n",
    "\n",
    "        if plotIdx == 1: \n",
    "            ax.set_title(titles('method')[methodIdx], fontsize=12, weight='bold')\n",
    "\n",
    "        convs = [convergence]\n",
    "        runs = len(convs[0]['run_index'].unique())\n",
    "        if len(convs) == 1:\n",
    "            palettes = [sns.light_palette(primaryColors[model][method],n_colors=runs)]\n",
    "        else:\n",
    "            palettes = [[elem] * runs for elem in fullColors[model][method]]\n",
    "\n",
    "        grouped = []\n",
    "        for idx, elem in enumerate(convs):\n",
    "            grouped.append(elem.groupby(['run_index']))\n",
    "\n",
    "        for groupIdx, conv in enumerate(grouped): \n",
    "            for name, group in conv:\n",
    "                ax.plot(group[xs[plotIdx]],group[ys[plotIdx]],color=palettes[groupIdx][name], linewidth=0.5)\n",
    "\n",
    "        nfe = 5000\n",
    "        if plotIdx < 2: \n",
    "            ax.set_xticks([0,nfe/2,nfe])\n",
    "\n",
    "        for tick in ax.xaxis.get_major_ticks():\n",
    "            tick.label.set_fontsize(8)\n",
    "        for tick in ax.yaxis.get_major_ticks():\n",
    "            tick.label.set_fontsize(8) \n",
    "plt.tight_layout(pad=0.5, w_pad=2.5)\n",
    "save_fig(f, 'images/appendix/', 'smalleps_convergence_' + model)\n",
    "plt.show()"
   ]
  },
  {
   "cell_type": "code",
   "execution_count": null,
   "metadata": {},
   "outputs": [],
   "source": [
    "convergence"
   ]
  },
  {
   "cell_type": "code",
   "execution_count": null,
   "metadata": {},
   "outputs": [],
   "source": []
  }
 ],
 "metadata": {
  "kernelspec": {
   "display_name": "Python 3",
   "language": "python",
   "name": "python3"
  },
  "language_info": {
   "codemirror_mode": {
    "name": "ipython",
    "version": 3
   },
   "file_extension": ".py",
   "mimetype": "text/x-python",
   "name": "python",
   "nbconvert_exporter": "python",
   "pygments_lexer": "ipython3",
   "version": "3.6.4"
  }
 },
 "nbformat": 4,
 "nbformat_minor": 2
}
